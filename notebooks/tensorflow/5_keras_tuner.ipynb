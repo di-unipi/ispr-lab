{
 "cells": [
  {
   "attachments": {},
   "cell_type": "markdown",
   "metadata": {},
   "source": [
    "## Keras Tuner\n",
    "\n",
    "[Keras Tuner](https://keras.io/keras_tuner/) is a high-level library for hyperparameter selection with Keras.\n",
    "\n",
    "It allows the definition of two main components:\n",
    "\n",
    "1. A __search space__, denoting all the possible hyperparameter configurations that we can choose;\n",
    "2. A __search algorithm__, which tells us how to \"move\" within the search space to choose the optimal configuration."
   ]
  },
  {
   "cell_type": "code",
   "execution_count": null,
   "metadata": {},
   "outputs": [],
   "source": [
    "import keras as K\n",
    "import keras_tuner as kt"
   ]
  },
  {
   "cell_type": "code",
   "execution_count": null,
   "metadata": {},
   "outputs": [],
   "source": [
    "kt.__version__"
   ]
  },
  {
   "attachments": {},
   "cell_type": "markdown",
   "metadata": {},
   "source": [
    "### Search space API"
   ]
  },
  {
   "cell_type": "code",
   "execution_count": null,
   "metadata": {},
   "outputs": [],
   "source": [
    "from keras_tuner import HyperParameters"
   ]
  },
  {
   "attachments": {},
   "cell_type": "markdown",
   "metadata": {},
   "source": [
    "We instantiate an empty search space by invoking the class `HyperParameters`"
   ]
  },
  {
   "cell_type": "code",
   "execution_count": null,
   "metadata": {},
   "outputs": [],
   "source": [
    "hp = HyperParameters()"
   ]
  },
  {
   "attachments": {},
   "cell_type": "markdown",
   "metadata": {},
   "source": [
    "`khp.Choice` defines the space for \"categorical\" hyperparameters"
   ]
  },
  {
   "cell_type": "code",
   "execution_count": null,
   "metadata": {},
   "outputs": [],
   "source": [
    "help(hp.Choice)\n",
    "print(hp.Choice(name='activation', values=['tanh', 'relu']))"
   ]
  },
  {
   "attachments": {},
   "cell_type": "markdown",
   "metadata": {},
   "source": [
    "`hp.Boolean` defines the space for boolean hyperparameters"
   ]
  },
  {
   "cell_type": "code",
   "execution_count": null,
   "metadata": {},
   "outputs": [],
   "source": [
    "help(hp.Boolean)\n",
    "print(hp.Boolean(name='use_bias'))"
   ]
  },
  {
   "attachments": {},
   "cell_type": "markdown",
   "metadata": {},
   "source": [
    "`hp.Fixed` defines a fixed hyperparameter"
   ]
  },
  {
   "cell_type": "code",
   "execution_count": null,
   "metadata": {},
   "outputs": [],
   "source": [
    "help(hp.Fixed)\n",
    "print(hp.Fixed(name='batch_size', value=32))"
   ]
  },
  {
   "attachments": {},
   "cell_type": "markdown",
   "metadata": {},
   "source": [
    "`hp.Float` allows choosing float values within an interval."
   ]
  },
  {
   "cell_type": "code",
   "execution_count": null,
   "metadata": {},
   "outputs": [],
   "source": [
    "help(hp.Float)\n",
    "print(hp.Float(name='learning_rate', min_value=0.0001, max_value=0.1, sampling='log'))"
   ]
  },
  {
   "attachments": {},
   "cell_type": "markdown",
   "metadata": {},
   "source": [
    "`hp.Int` same as above, for integers."
   ]
  },
  {
   "cell_type": "code",
   "execution_count": null,
   "metadata": {},
   "outputs": [],
   "source": [
    "help(hp.Int)\n",
    "print(hp.Int(name='units', min_value=1, max_value=5))"
   ]
  },
  {
   "attachments": {},
   "cell_type": "markdown",
   "metadata": {},
   "source": [
    "Now ``hp`` defines the space of hyperparameters we can choose from."
   ]
  },
  {
   "cell_type": "code",
   "execution_count": null,
   "metadata": {},
   "outputs": [],
   "source": [
    "print(hp.get('units'))\n",
    "print(hp.get('learning_rate'))\n",
    "print(hp.get('batch_size'))\n",
    "print(hp.get('use_bias'))\n",
    "print(hp.get('activation'))"
   ]
  },
  {
   "attachments": {},
   "cell_type": "markdown",
   "metadata": {},
   "source": [
    "### Search Algorithm\n",
    "\n",
    "An example of search algorithm is Random Search. Keras Tuner offers a class ``RandomSearch``, whose constructor needs:\n",
    "\n",
    "1. A ``build`` function which instantiates the model given the hp configuration;\n",
    "2. An objective function to assess the quality of the models;\n",
    "3. A number of trials."
   ]
  },
  {
   "cell_type": "code",
   "execution_count": null,
   "metadata": {},
   "outputs": [],
   "source": [
    "def build_model(hp):\n",
    "    model = K.Sequential()\n",
    "    model.add(K.layers.Flatten())\n",
    "    model.add(K.layers.Rescaling(scale=1/255.))\n",
    "\n",
    "    model.add(K.layers.Dense(\n",
    "        units=hp.Choice('units', [50, 100, 1000]),\n",
    "        activation='relu'))\n",
    "    model.add(K.layers.Dense(10, activation='softmax', use_bias=hp.Boolean('use_bias')))\n",
    "\n",
    "    model.compile(\n",
    "        loss='sparse_categorical_crossentropy',\n",
    "        optimizer='adam',\n",
    "        metrics=['accuracy']\n",
    "    )\n",
    "    return model"
   ]
  },
  {
   "cell_type": "code",
   "execution_count": null,
   "metadata": {},
   "outputs": [],
   "source": [
    "tuner = kt.RandomSearch(\n",
    "    build_model,\n",
    "    objective='val_loss',\n",
    "    max_trials=5\n",
    ")"
   ]
  },
  {
   "cell_type": "code",
   "execution_count": null,
   "metadata": {},
   "outputs": [],
   "source": [
    "from keras.datasets import mnist, boston_housing\n",
    "from sklearn.model_selection import train_test_split"
   ]
  },
  {
   "cell_type": "code",
   "execution_count": null,
   "metadata": {},
   "outputs": [],
   "source": [
    "(train_X, train_y), (test_X, test_y) = mnist.load_data(path='ds')"
   ]
  },
  {
   "cell_type": "code",
   "execution_count": null,
   "metadata": {},
   "outputs": [],
   "source": [
    "train_X, eval_X, train_y, eval_y = train_test_split(\n",
    "    train_X, train_y,\n",
    "    test_size=0.15,\n",
    "    shuffle=True,\n",
    "    stratify=train_y\n",
    ")"
   ]
  },
  {
   "attachments": {},
   "cell_type": "markdown",
   "metadata": {},
   "source": [
    "The search function gets exactly the same parameters as `model.fit`."
   ]
  },
  {
   "cell_type": "code",
   "execution_count": null,
   "metadata": {},
   "outputs": [],
   "source": [
    "tuner.search(train_X, train_y, epochs=5, batch_size=1000, validation_data=(eval_X, eval_y))"
   ]
  },
  {
   "cell_type": "code",
   "execution_count": null,
   "metadata": {},
   "outputs": [],
   "source": [
    "best_model = tuner.get_best_models()[0]\n",
    "prediction = best_model(train_X[:10])\n",
    "best_model.summary()"
   ]
  },
  {
   "cell_type": "code",
   "execution_count": null,
   "metadata": {},
   "outputs": [],
   "source": [
    "tuner.get_best_hyperparameters()[0].get_config()['values']"
   ]
  },
  {
   "attachments": {},
   "cell_type": "markdown",
   "metadata": {},
   "source": [
    "# Your Turn!\n",
    "\n",
    "Try to implement a model selection with Keras Tuner on the usual Boston Housing dataset."
   ]
  },
  {
   "cell_type": "code",
   "execution_count": null,
   "metadata": {},
   "outputs": [],
   "source": [
    "(h_train_X, h_train_y), (h_test_X, h_test_y) = kds.boston_housing.load_data()"
   ]
  },
  {
   "cell_type": "code",
   "execution_count": null,
   "metadata": {},
   "outputs": [],
   "source": [
    "import random\n",
    "import numpy as np\n",
    "\n",
    "h_train = np.concatenate([h_train_X, h_train_y[:, np.newaxis]], axis=1)\n",
    "random.seed(42)\n",
    "random.shuffle(h_train)\n",
    "\n",
    "h_train, h_eval = h_train[75:], h_train[:75]\n",
    "h_train_X, h_train_y = h_train[:, :-1], h_train[:, -1]\n",
    "h_eval_X, h_eval_y = h_eval[:, :-1], h_eval[:, -1]"
   ]
  },
  {
   "cell_type": "code",
   "execution_count": null,
   "metadata": {},
   "outputs": [],
   "source": [
    "(h_train_X.shape, h_train_y.shape), (h_eval_X.shape, h_eval_y.shape)"
   ]
  }
 ],
 "metadata": {
  "kernelspec": {
   "display_name": "Python 3.8.13 ('tf_mela')",
   "language": "python",
   "name": "python3"
  },
  "language_info": {
   "codemirror_mode": {
    "name": "ipython",
    "version": 3
   },
   "file_extension": ".py",
   "mimetype": "text/x-python",
   "name": "python",
   "nbconvert_exporter": "python",
   "pygments_lexer": "ipython3",
   "version": "3.8.16"
  },
  "orig_nbformat": 4,
  "vscode": {
   "interpreter": {
    "hash": "3917c018cfd92834e25e8ac39593c8ba50cba5d103d91e5ca7d5a867c45ae1af"
   }
  }
 },
 "nbformat": 4,
 "nbformat_minor": 2
}
